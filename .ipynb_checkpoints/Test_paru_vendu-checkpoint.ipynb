{
 "cells": [
  {
   "cell_type": "markdown",
   "metadata": {},
   "source": [
    "# Scraping Paru vendu test"
   ]
  },
  {
   "cell_type": "code",
   "execution_count": 1,
   "metadata": {},
   "outputs": [],
   "source": [
    "from selenium import webdriver\n",
    "import time\n",
    "#from webdriver_manager.chrome import ChromeDriverManager \n",
    "from selenium.webdriver.support import expected_conditions as EC\n",
    "from selenium.webdriver.support.ui import WebDriverWait\n",
    "from selenium.webdriver.common.keys import Keys\n",
    "from selenium.webdriver.common.by import By \n",
    "from selenium.webdriver.support.select import Select\n",
    "option = webdriver.ChromeOptions()\n"
   ]
  },
  {
   "cell_type": "code",
   "execution_count": 2,
   "metadata": {},
   "outputs": [],
   "source": [
    "paru_vendu = \"https://www.paruvendu.fr/immobilier/annonceimmofo/liste/listeAnnonces?tt=1&at=1&nbp0=99&pa=FR&lo=&codeINSEE=\""
   ]
  },
  {
   "cell_type": "code",
   "execution_count": 3,
   "metadata": {},
   "outputs": [],
   "source": [
    "class Annonce:\n",
    "    \"\"\"\n",
    "    \"\"\"\n",
    "    def __init__(self, driver): \n",
    "        self.annonce = {}\n",
    "        self.driver = driver\n",
    "       \n",
    "             \n",
    "    def __repr__(self):\n",
    "        return f\"\"\"\n",
    "            localisation    : {self.localisation}\n",
    "            prix            : {self.prix}\n",
    "            pieces          : {self.pieces}\n",
    "            surface         : {self.surface}\n",
    "            DPE             : {self.DPE}\n",
    "            DPE_Effet_serre : {self.DPE_ES}\n",
    "            depenses_energie: {self.depenses_energ}\n",
    "            \"\"\"\n",
    "\n",
    "    def recuperation(self):\n",
    "        \"\"\"Recupère les données d'une annonce\"\"\"\n",
    "        \n",
    "        self.annonce[\"localisation\"] = 1 #self.driver.find_element(By.ID, 'detail_loc').text\n",
    "        self.annonce[\"prix\"] =1 #self.driver.find_element(By.ID, 'autoprix').text\n",
    "        self.annonce[\"pieces\"] =1 #self.driver.find_element(By.CLASS_NAME, 'nbp').text\n",
    "        self.annonce[\"surface\"] =1 #self.driver.find_element(By.CLASS_NAME, 'surf').text\n",
    "        self.annonce[\"DPE\"] =1 #self.driver.find_element(By.CLASS_NAME, 'DPE_consEnerTxt').text\n",
    "        self.annonce[\"DPE_ES\"] =1 #self.driver.find_element(By.CLASS_NAME, 'DPE_effSerreTxt').text\n",
    "        self.annonce[\"depenses_energ\"] =1 #self.driver.find_element(By.CLASS_NAME, 'fin').text\n",
    "        return self.annonce\n",
    "    \n",
    "        "
   ]
  },
  {
   "cell_type": "code",
   "execution_count": null,
   "metadata": {},
   "outputs": [],
   "source": [
    "   self.driver.back()\n",
    "   \n",
    "    try:\n",
    "        banner=self.driver.find_element(By.XPATH, '//*[@id=\"layr_paruvendupourvous\"]/div/span')\n",
    "        banner.click()\n",
    "\n",
    "        except:\n",
    "            pass"
   ]
  },
  {
   "cell_type": "code",
   "execution_count": 5,
   "metadata": {},
   "outputs": [
    {
     "ename": "AttributeError",
     "evalue": "'Session' object has no attribute 'localisation'",
     "output_type": "error",
     "traceback": [
      "\u001b[1;31m---------------------------------------------------------------------------\u001b[0m",
      "\u001b[1;31mAttributeError\u001b[0m                            Traceback (most recent call last)",
      "\u001b[1;32mc:\\Users\\pierr\\AppData\\Local\\Programs\\Python\\Python310\\lib\\site-packages\\IPython\\core\\formatters.py\u001b[0m in \u001b[0;36m__call__\u001b[1;34m(self, obj)\u001b[0m\n\u001b[0;32m    700\u001b[0m                 \u001b[0mtype_pprinters\u001b[0m\u001b[1;33m=\u001b[0m\u001b[0mself\u001b[0m\u001b[1;33m.\u001b[0m\u001b[0mtype_printers\u001b[0m\u001b[1;33m,\u001b[0m\u001b[1;33m\u001b[0m\u001b[1;33m\u001b[0m\u001b[0m\n\u001b[0;32m    701\u001b[0m                 deferred_pprinters=self.deferred_printers)\n\u001b[1;32m--> 702\u001b[1;33m             \u001b[0mprinter\u001b[0m\u001b[1;33m.\u001b[0m\u001b[0mpretty\u001b[0m\u001b[1;33m(\u001b[0m\u001b[0mobj\u001b[0m\u001b[1;33m)\u001b[0m\u001b[1;33m\u001b[0m\u001b[1;33m\u001b[0m\u001b[0m\n\u001b[0m\u001b[0;32m    703\u001b[0m             \u001b[0mprinter\u001b[0m\u001b[1;33m.\u001b[0m\u001b[0mflush\u001b[0m\u001b[1;33m(\u001b[0m\u001b[1;33m)\u001b[0m\u001b[1;33m\u001b[0m\u001b[1;33m\u001b[0m\u001b[0m\n\u001b[0;32m    704\u001b[0m             \u001b[1;32mreturn\u001b[0m \u001b[0mstream\u001b[0m\u001b[1;33m.\u001b[0m\u001b[0mgetvalue\u001b[0m\u001b[1;33m(\u001b[0m\u001b[1;33m)\u001b[0m\u001b[1;33m\u001b[0m\u001b[1;33m\u001b[0m\u001b[0m\n",
      "\u001b[1;32mc:\\Users\\pierr\\AppData\\Local\\Programs\\Python\\Python310\\lib\\site-packages\\IPython\\lib\\pretty.py\u001b[0m in \u001b[0;36mpretty\u001b[1;34m(self, obj)\u001b[0m\n\u001b[0;32m    392\u001b[0m                         \u001b[1;32mif\u001b[0m \u001b[0mcls\u001b[0m \u001b[1;32mis\u001b[0m \u001b[1;32mnot\u001b[0m \u001b[0mobject\u001b[0m\u001b[0;31m \u001b[0m\u001b[0;31m\\\u001b[0m\u001b[1;33m\u001b[0m\u001b[1;33m\u001b[0m\u001b[0m\n\u001b[0;32m    393\u001b[0m                                 \u001b[1;32mand\u001b[0m \u001b[0mcallable\u001b[0m\u001b[1;33m(\u001b[0m\u001b[0mcls\u001b[0m\u001b[1;33m.\u001b[0m\u001b[0m__dict__\u001b[0m\u001b[1;33m.\u001b[0m\u001b[0mget\u001b[0m\u001b[1;33m(\u001b[0m\u001b[1;34m'__repr__'\u001b[0m\u001b[1;33m)\u001b[0m\u001b[1;33m)\u001b[0m\u001b[1;33m:\u001b[0m\u001b[1;33m\u001b[0m\u001b[1;33m\u001b[0m\u001b[0m\n\u001b[1;32m--> 394\u001b[1;33m                             \u001b[1;32mreturn\u001b[0m \u001b[0m_repr_pprint\u001b[0m\u001b[1;33m(\u001b[0m\u001b[0mobj\u001b[0m\u001b[1;33m,\u001b[0m \u001b[0mself\u001b[0m\u001b[1;33m,\u001b[0m \u001b[0mcycle\u001b[0m\u001b[1;33m)\u001b[0m\u001b[1;33m\u001b[0m\u001b[1;33m\u001b[0m\u001b[0m\n\u001b[0m\u001b[0;32m    395\u001b[0m \u001b[1;33m\u001b[0m\u001b[0m\n\u001b[0;32m    396\u001b[0m             \u001b[1;32mreturn\u001b[0m \u001b[0m_default_pprint\u001b[0m\u001b[1;33m(\u001b[0m\u001b[0mobj\u001b[0m\u001b[1;33m,\u001b[0m \u001b[0mself\u001b[0m\u001b[1;33m,\u001b[0m \u001b[0mcycle\u001b[0m\u001b[1;33m)\u001b[0m\u001b[1;33m\u001b[0m\u001b[1;33m\u001b[0m\u001b[0m\n",
      "\u001b[1;32mc:\\Users\\pierr\\AppData\\Local\\Programs\\Python\\Python310\\lib\\site-packages\\IPython\\lib\\pretty.py\u001b[0m in \u001b[0;36m_repr_pprint\u001b[1;34m(obj, p, cycle)\u001b[0m\n\u001b[0;32m    698\u001b[0m     \u001b[1;34m\"\"\"A pprint that just redirects to the normal repr function.\"\"\"\u001b[0m\u001b[1;33m\u001b[0m\u001b[1;33m\u001b[0m\u001b[0m\n\u001b[0;32m    699\u001b[0m     \u001b[1;31m# Find newlines and replace them with p.break_()\u001b[0m\u001b[1;33m\u001b[0m\u001b[1;33m\u001b[0m\u001b[0m\n\u001b[1;32m--> 700\u001b[1;33m     \u001b[0moutput\u001b[0m \u001b[1;33m=\u001b[0m \u001b[0mrepr\u001b[0m\u001b[1;33m(\u001b[0m\u001b[0mobj\u001b[0m\u001b[1;33m)\u001b[0m\u001b[1;33m\u001b[0m\u001b[1;33m\u001b[0m\u001b[0m\n\u001b[0m\u001b[0;32m    701\u001b[0m     \u001b[0mlines\u001b[0m \u001b[1;33m=\u001b[0m \u001b[0moutput\u001b[0m\u001b[1;33m.\u001b[0m\u001b[0msplitlines\u001b[0m\u001b[1;33m(\u001b[0m\u001b[1;33m)\u001b[0m\u001b[1;33m\u001b[0m\u001b[1;33m\u001b[0m\u001b[0m\n\u001b[0;32m    702\u001b[0m     \u001b[1;32mwith\u001b[0m \u001b[0mp\u001b[0m\u001b[1;33m.\u001b[0m\u001b[0mgroup\u001b[0m\u001b[1;33m(\u001b[0m\u001b[1;33m)\u001b[0m\u001b[1;33m:\u001b[0m\u001b[1;33m\u001b[0m\u001b[1;33m\u001b[0m\u001b[0m\n",
      "\u001b[1;32m~\\AppData\\Local\\Temp/ipykernel_13984/2811181510.py\u001b[0m in \u001b[0;36m__repr__\u001b[1;34m(self)\u001b[0m\n\u001b[0;32m     13\u001b[0m     \u001b[1;32mdef\u001b[0m \u001b[0m__repr__\u001b[0m\u001b[1;33m(\u001b[0m\u001b[0mself\u001b[0m\u001b[1;33m)\u001b[0m\u001b[1;33m:\u001b[0m\u001b[1;33m\u001b[0m\u001b[1;33m\u001b[0m\u001b[0m\n\u001b[0;32m     14\u001b[0m         return f\"\"\"\n\u001b[1;32m---> 15\u001b[1;33m             \u001b[0mlocalisation\u001b[0m    \u001b[1;33m:\u001b[0m \u001b[1;33m{\u001b[0m\u001b[0mself\u001b[0m\u001b[1;33m.\u001b[0m\u001b[0mlocalisation\u001b[0m\u001b[1;33m}\u001b[0m\u001b[1;33m\u001b[0m\u001b[1;33m\u001b[0m\u001b[0m\n\u001b[0m\u001b[0;32m     16\u001b[0m             \u001b[0mprix\u001b[0m            \u001b[1;33m:\u001b[0m \u001b[1;33m{\u001b[0m\u001b[0mself\u001b[0m\u001b[1;33m.\u001b[0m\u001b[0mprix\u001b[0m\u001b[1;33m}\u001b[0m\u001b[1;33m\u001b[0m\u001b[1;33m\u001b[0m\u001b[0m\n\u001b[0;32m     17\u001b[0m             \u001b[0mpieces\u001b[0m          \u001b[1;33m:\u001b[0m \u001b[1;33m{\u001b[0m\u001b[0mself\u001b[0m\u001b[1;33m.\u001b[0m\u001b[0mpieces\u001b[0m\u001b[1;33m}\u001b[0m\u001b[1;33m\u001b[0m\u001b[1;33m\u001b[0m\u001b[0m\n",
      "\u001b[1;31mAttributeError\u001b[0m: 'Session' object has no attribute 'localisation'"
     ]
    }
   ],
   "source": [
    "Session(paru_vendu)"
   ]
  },
  {
   "cell_type": "code",
   "execution_count": 19,
   "metadata": {},
   "outputs": [],
   "source": [
    "def scroll_shim(passed_in_driver, object):\n",
    "    \"\"\"Scroll into view\"\"\"\n",
    "    x = object.location['x']\n",
    "    y = object.location['y']\n",
    "    scroll_by_coord = 'window.scrollTo(%s,%s);' % (\n",
    "        x,\n",
    "        y\n",
    "    )\n",
    "    scroll_nav_out_of_way = 'window.scrollBy(0, -120);'\n",
    "    passed_in_driver.execute_script(scroll_by_coord)\n",
    "    passed_in_driver.execute_script(scroll_nav_out_of_way)"
   ]
  },
  {
   "cell_type": "code",
   "execution_count": 25,
   "metadata": {},
   "outputs": [
    {
     "name": "stdout",
     "output_type": "stream",
     "text": [
      "152\n",
      "{'localisation': [1], 'prix': [1], 'pieces': [1], 'surface': [1], 'DPE': [1], 'DPE_ES': [1], 'depenses_energ': [1]}\n",
      "152\n"
     ]
    },
    {
     "ename": "StaleElementReferenceException",
     "evalue": "Message: stale element reference: element is not attached to the page document\n  (Session info: chrome=107.0.5304.88)\nStacktrace:\nBacktrace:\n\tOrdinal0 [0x00E81ED3+2236115]\n\tOrdinal0 [0x00E192F1+1807089]\n\tOrdinal0 [0x00D266FD+812797]\n\tOrdinal0 [0x00D292B4+823988]\n\tOrdinal0 [0x00D29165+823653]\n\tOrdinal0 [0x00D29400+824320]\n\tOrdinal0 [0x00D52054+991316]\n\tOrdinal0 [0x00D71A8C+1120908]\n\tOrdinal0 [0x00D4BD84+966020]\n\tOrdinal0 [0x00D71CA4+1121444]\n\tOrdinal0 [0x00D859E2+1202658]\n\tOrdinal0 [0x00D718A6+1120422]\n\tOrdinal0 [0x00D4A73D+960317]\n\tOrdinal0 [0x00D4B71F+964383]\n\tGetHandleVerifier [0x0112E7E2+2743074]\n\tGetHandleVerifier [0x011208D4+2685972]\n\tGetHandleVerifier [0x00F12BAA+532202]\n\tGetHandleVerifier [0x00F11990+527568]\n\tOrdinal0 [0x00E2080C+1837068]\n\tOrdinal0 [0x00E24CD8+1854680]\n\tOrdinal0 [0x00E24DC5+1854917]\n\tOrdinal0 [0x00E2ED64+1895780]\n\tBaseThreadInitThunk [0x77C7FA29+25]\n\tRtlGetAppContainerNamedObjectPath [0x77E27BBE+286]\n\tRtlGetAppContainerNamedObjectPath [0x77E27B8E+238]\n",
     "output_type": "error",
     "traceback": [
      "\u001b[1;31m---------------------------------------------------------------------------\u001b[0m",
      "\u001b[1;31mStaleElementReferenceException\u001b[0m            Traceback (most recent call last)",
      "\u001b[1;32m~\\AppData\\Local\\Temp/ipykernel_14532/4035407966.py\u001b[0m in \u001b[0;36m<module>\u001b[1;34m\u001b[0m\n\u001b[0;32m     60\u001b[0m     \u001b[0mdriver\u001b[0m\u001b[1;33m.\u001b[0m\u001b[0mback\u001b[0m\u001b[1;33m(\u001b[0m\u001b[1;33m)\u001b[0m\u001b[1;33m\u001b[0m\u001b[1;33m\u001b[0m\u001b[0m\n\u001b[0;32m     61\u001b[0m     \u001b[0mtime\u001b[0m\u001b[1;33m.\u001b[0m\u001b[0msleep\u001b[0m\u001b[1;33m(\u001b[0m\u001b[1;36m10\u001b[0m\u001b[1;33m)\u001b[0m\u001b[1;33m\u001b[0m\u001b[1;33m\u001b[0m\u001b[0m\n\u001b[1;32m---> 62\u001b[1;33m     \u001b[0mscroll_shim\u001b[0m\u001b[1;33m(\u001b[0m\u001b[0mdriver\u001b[0m\u001b[1;33m,\u001b[0m\u001b[0mpage\u001b[0m\u001b[1;33m)\u001b[0m\u001b[1;33m\u001b[0m\u001b[1;33m\u001b[0m\u001b[0m\n\u001b[0m\u001b[0;32m     63\u001b[0m     \u001b[0mtime\u001b[0m\u001b[1;33m.\u001b[0m\u001b[0msleep\u001b[0m\u001b[1;33m(\u001b[0m\u001b[1;36m5\u001b[0m\u001b[1;33m)\u001b[0m\u001b[1;33m\u001b[0m\u001b[1;33m\u001b[0m\u001b[0m\n\u001b[0;32m     64\u001b[0m     \u001b[0mprint\u001b[0m\u001b[1;33m(\u001b[0m\u001b[0mdict_annonces\u001b[0m\u001b[1;33m)\u001b[0m\u001b[1;33m\u001b[0m\u001b[1;33m\u001b[0m\u001b[0m\n",
      "\u001b[1;32m~\\AppData\\Local\\Temp/ipykernel_14532/616381284.py\u001b[0m in \u001b[0;36mscroll_shim\u001b[1;34m(passed_in_driver, object)\u001b[0m\n\u001b[0;32m      1\u001b[0m \u001b[1;32mdef\u001b[0m \u001b[0mscroll_shim\u001b[0m\u001b[1;33m(\u001b[0m\u001b[0mpassed_in_driver\u001b[0m\u001b[1;33m,\u001b[0m \u001b[0mobject\u001b[0m\u001b[1;33m)\u001b[0m\u001b[1;33m:\u001b[0m\u001b[1;33m\u001b[0m\u001b[1;33m\u001b[0m\u001b[0m\n\u001b[0;32m      2\u001b[0m     \u001b[1;34m\"\"\"Scroll into view\"\"\"\u001b[0m\u001b[1;33m\u001b[0m\u001b[1;33m\u001b[0m\u001b[0m\n\u001b[1;32m----> 3\u001b[1;33m     \u001b[0mx\u001b[0m \u001b[1;33m=\u001b[0m \u001b[0mobject\u001b[0m\u001b[1;33m.\u001b[0m\u001b[0mlocation\u001b[0m\u001b[1;33m[\u001b[0m\u001b[1;34m'x'\u001b[0m\u001b[1;33m]\u001b[0m\u001b[1;33m\u001b[0m\u001b[1;33m\u001b[0m\u001b[0m\n\u001b[0m\u001b[0;32m      4\u001b[0m     \u001b[0my\u001b[0m \u001b[1;33m=\u001b[0m \u001b[0mobject\u001b[0m\u001b[1;33m.\u001b[0m\u001b[0mlocation\u001b[0m\u001b[1;33m[\u001b[0m\u001b[1;34m'y'\u001b[0m\u001b[1;33m]\u001b[0m\u001b[1;33m\u001b[0m\u001b[1;33m\u001b[0m\u001b[0m\n\u001b[0;32m      5\u001b[0m     scroll_by_coord = 'window.scrollTo(%s,%s);' % (\n",
      "\u001b[1;32mc:\\Users\\pierr\\AppData\\Local\\Programs\\Python\\Python310\\lib\\site-packages\\selenium\\webdriver\\remote\\webelement.py\u001b[0m in \u001b[0;36mlocation\u001b[1;34m(self)\u001b[0m\n\u001b[0;32m    284\u001b[0m     \u001b[1;32mdef\u001b[0m \u001b[0mlocation\u001b[0m\u001b[1;33m(\u001b[0m\u001b[0mself\u001b[0m\u001b[1;33m)\u001b[0m \u001b[1;33m->\u001b[0m \u001b[0mdict\u001b[0m\u001b[1;33m:\u001b[0m\u001b[1;33m\u001b[0m\u001b[1;33m\u001b[0m\u001b[0m\n\u001b[0;32m    285\u001b[0m         \u001b[1;34m\"\"\"The location of the element in the renderable canvas.\"\"\"\u001b[0m\u001b[1;33m\u001b[0m\u001b[1;33m\u001b[0m\u001b[0m\n\u001b[1;32m--> 286\u001b[1;33m         \u001b[0mold_loc\u001b[0m \u001b[1;33m=\u001b[0m \u001b[0mself\u001b[0m\u001b[1;33m.\u001b[0m\u001b[0m_execute\u001b[0m\u001b[1;33m(\u001b[0m\u001b[0mCommand\u001b[0m\u001b[1;33m.\u001b[0m\u001b[0mGET_ELEMENT_RECT\u001b[0m\u001b[1;33m)\u001b[0m\u001b[1;33m[\u001b[0m\u001b[1;34m'value'\u001b[0m\u001b[1;33m]\u001b[0m\u001b[1;33m\u001b[0m\u001b[1;33m\u001b[0m\u001b[0m\n\u001b[0m\u001b[0;32m    287\u001b[0m         new_loc = {\"x\": round(old_loc['x']),\n\u001b[0;32m    288\u001b[0m                    \"y\": round(old_loc['y'])}\n",
      "\u001b[1;32mc:\\Users\\pierr\\AppData\\Local\\Programs\\Python\\Python310\\lib\\site-packages\\selenium\\webdriver\\remote\\webelement.py\u001b[0m in \u001b[0;36m_execute\u001b[1;34m(self, command, params)\u001b[0m\n\u001b[0;32m    394\u001b[0m             \u001b[0mparams\u001b[0m \u001b[1;33m=\u001b[0m \u001b[1;33m{\u001b[0m\u001b[1;33m}\u001b[0m\u001b[1;33m\u001b[0m\u001b[1;33m\u001b[0m\u001b[0m\n\u001b[0;32m    395\u001b[0m         \u001b[0mparams\u001b[0m\u001b[1;33m[\u001b[0m\u001b[1;34m'id'\u001b[0m\u001b[1;33m]\u001b[0m \u001b[1;33m=\u001b[0m \u001b[0mself\u001b[0m\u001b[1;33m.\u001b[0m\u001b[0m_id\u001b[0m\u001b[1;33m\u001b[0m\u001b[1;33m\u001b[0m\u001b[0m\n\u001b[1;32m--> 396\u001b[1;33m         \u001b[1;32mreturn\u001b[0m \u001b[0mself\u001b[0m\u001b[1;33m.\u001b[0m\u001b[0m_parent\u001b[0m\u001b[1;33m.\u001b[0m\u001b[0mexecute\u001b[0m\u001b[1;33m(\u001b[0m\u001b[0mcommand\u001b[0m\u001b[1;33m,\u001b[0m \u001b[0mparams\u001b[0m\u001b[1;33m)\u001b[0m\u001b[1;33m\u001b[0m\u001b[1;33m\u001b[0m\u001b[0m\n\u001b[0m\u001b[0;32m    397\u001b[0m \u001b[1;33m\u001b[0m\u001b[0m\n\u001b[0;32m    398\u001b[0m     \u001b[1;32mdef\u001b[0m \u001b[0mfind_element\u001b[0m\u001b[1;33m(\u001b[0m\u001b[0mself\u001b[0m\u001b[1;33m,\u001b[0m \u001b[0mby\u001b[0m\u001b[1;33m=\u001b[0m\u001b[0mBy\u001b[0m\u001b[1;33m.\u001b[0m\u001b[0mID\u001b[0m\u001b[1;33m,\u001b[0m \u001b[0mvalue\u001b[0m\u001b[1;33m=\u001b[0m\u001b[1;32mNone\u001b[0m\u001b[1;33m)\u001b[0m \u001b[1;33m->\u001b[0m \u001b[0mWebElement\u001b[0m\u001b[1;33m:\u001b[0m\u001b[1;33m\u001b[0m\u001b[1;33m\u001b[0m\u001b[0m\n",
      "\u001b[1;32mc:\\Users\\pierr\\AppData\\Local\\Programs\\Python\\Python310\\lib\\site-packages\\selenium\\webdriver\\remote\\webdriver.py\u001b[0m in \u001b[0;36mexecute\u001b[1;34m(self, driver_command, params)\u001b[0m\n\u001b[0;32m    427\u001b[0m         \u001b[0mresponse\u001b[0m \u001b[1;33m=\u001b[0m \u001b[0mself\u001b[0m\u001b[1;33m.\u001b[0m\u001b[0mcommand_executor\u001b[0m\u001b[1;33m.\u001b[0m\u001b[0mexecute\u001b[0m\u001b[1;33m(\u001b[0m\u001b[0mdriver_command\u001b[0m\u001b[1;33m,\u001b[0m \u001b[0mparams\u001b[0m\u001b[1;33m)\u001b[0m\u001b[1;33m\u001b[0m\u001b[1;33m\u001b[0m\u001b[0m\n\u001b[0;32m    428\u001b[0m         \u001b[1;32mif\u001b[0m \u001b[0mresponse\u001b[0m\u001b[1;33m:\u001b[0m\u001b[1;33m\u001b[0m\u001b[1;33m\u001b[0m\u001b[0m\n\u001b[1;32m--> 429\u001b[1;33m             \u001b[0mself\u001b[0m\u001b[1;33m.\u001b[0m\u001b[0merror_handler\u001b[0m\u001b[1;33m.\u001b[0m\u001b[0mcheck_response\u001b[0m\u001b[1;33m(\u001b[0m\u001b[0mresponse\u001b[0m\u001b[1;33m)\u001b[0m\u001b[1;33m\u001b[0m\u001b[1;33m\u001b[0m\u001b[0m\n\u001b[0m\u001b[0;32m    430\u001b[0m             response['value'] = self._unwrap_value(\n\u001b[0;32m    431\u001b[0m                 response.get('value', None))\n",
      "\u001b[1;32mc:\\Users\\pierr\\AppData\\Local\\Programs\\Python\\Python310\\lib\\site-packages\\selenium\\webdriver\\remote\\errorhandler.py\u001b[0m in \u001b[0;36mcheck_response\u001b[1;34m(self, response)\u001b[0m\n\u001b[0;32m    241\u001b[0m                 \u001b[0malert_text\u001b[0m \u001b[1;33m=\u001b[0m \u001b[0mvalue\u001b[0m\u001b[1;33m[\u001b[0m\u001b[1;34m'alert'\u001b[0m\u001b[1;33m]\u001b[0m\u001b[1;33m.\u001b[0m\u001b[0mget\u001b[0m\u001b[1;33m(\u001b[0m\u001b[1;34m'text'\u001b[0m\u001b[1;33m)\u001b[0m\u001b[1;33m\u001b[0m\u001b[1;33m\u001b[0m\u001b[0m\n\u001b[0;32m    242\u001b[0m             \u001b[1;32mraise\u001b[0m \u001b[0mexception_class\u001b[0m\u001b[1;33m(\u001b[0m\u001b[0mmessage\u001b[0m\u001b[1;33m,\u001b[0m \u001b[0mscreen\u001b[0m\u001b[1;33m,\u001b[0m \u001b[0mstacktrace\u001b[0m\u001b[1;33m,\u001b[0m \u001b[0malert_text\u001b[0m\u001b[1;33m)\u001b[0m  \u001b[1;31m# type: ignore[call-arg]  # mypy is not smart enough here\u001b[0m\u001b[1;33m\u001b[0m\u001b[1;33m\u001b[0m\u001b[0m\n\u001b[1;32m--> 243\u001b[1;33m         \u001b[1;32mraise\u001b[0m \u001b[0mexception_class\u001b[0m\u001b[1;33m(\u001b[0m\u001b[0mmessage\u001b[0m\u001b[1;33m,\u001b[0m \u001b[0mscreen\u001b[0m\u001b[1;33m,\u001b[0m \u001b[0mstacktrace\u001b[0m\u001b[1;33m)\u001b[0m\u001b[1;33m\u001b[0m\u001b[1;33m\u001b[0m\u001b[0m\n\u001b[0m",
      "\u001b[1;31mStaleElementReferenceException\u001b[0m: Message: stale element reference: element is not attached to the page document\n  (Session info: chrome=107.0.5304.88)\nStacktrace:\nBacktrace:\n\tOrdinal0 [0x00E81ED3+2236115]\n\tOrdinal0 [0x00E192F1+1807089]\n\tOrdinal0 [0x00D266FD+812797]\n\tOrdinal0 [0x00D292B4+823988]\n\tOrdinal0 [0x00D29165+823653]\n\tOrdinal0 [0x00D29400+824320]\n\tOrdinal0 [0x00D52054+991316]\n\tOrdinal0 [0x00D71A8C+1120908]\n\tOrdinal0 [0x00D4BD84+966020]\n\tOrdinal0 [0x00D71CA4+1121444]\n\tOrdinal0 [0x00D859E2+1202658]\n\tOrdinal0 [0x00D718A6+1120422]\n\tOrdinal0 [0x00D4A73D+960317]\n\tOrdinal0 [0x00D4B71F+964383]\n\tGetHandleVerifier [0x0112E7E2+2743074]\n\tGetHandleVerifier [0x011208D4+2685972]\n\tGetHandleVerifier [0x00F12BAA+532202]\n\tGetHandleVerifier [0x00F11990+527568]\n\tOrdinal0 [0x00E2080C+1837068]\n\tOrdinal0 [0x00E24CD8+1854680]\n\tOrdinal0 [0x00E24DC5+1854917]\n\tOrdinal0 [0x00E2ED64+1895780]\n\tBaseThreadInitThunk [0x77C7FA29+25]\n\tRtlGetAppContainerNamedObjectPath [0x77E27BBE+286]\n\tRtlGetAppContainerNamedObjectPath [0x77E27B8E+238]\n"
     ]
    }
   ],
   "source": [
    "\"\"\"Première partie\n",
    "\"\"\"\n",
    "from selenium import webdriver\n",
    "import time\n",
    "from selenium.webdriver.support import expected_conditions as EC\n",
    "from selenium.webdriver.support.ui import WebDriverWait\n",
    "from selenium.webdriver.common.keys import Keys\n",
    "from selenium.webdriver.common.by import By \n",
    "from selenium.webdriver.support.select import Select\n",
    "import pandas as pd\n",
    "\n",
    "\n",
    "option = webdriver.ChromeOptions()\n",
    "option.add_argument(\"--profile-directory=Default\")\n",
    "option.add_argument('--disable-blink-features=AutomationControlled')\n",
    "#Re-size la taille de la fenêtre\n",
    "option.add_argument(\"window-size=1920,1000\")\n",
    "# Ajoute un useragent différent\n",
    "driver = webdriver.Chrome()\n",
    "driver.get(paru_vendu)\n",
    "driver.maximize_window()\n",
    "driver.find_element(By.XPATH, '//*[@id=\"step1\"]/div[3]/button[2]').click()\n",
    "\n",
    "try:\n",
    "    banner=driver.find_element(By.XPATH, '//*[@id=\"layr_paruvendupourvous\"]/div/span')\n",
    "    banner.click()\n",
    "except:\n",
    "    pass\n",
    "\n",
    "code_source = driver.page_source \n",
    "block_liste = driver.find_element(By.ID, \"bloc_liste\")\n",
    "liste_annonces = [block_liste.find_elements(By.XPATH, '//*[@id=\"bloc_liste\"]/div[{}]/div[1]'.format(i)) for i in range(1,26)]\n",
    "\n",
    "liste_annonce_clean = []\n",
    "for i in liste_annonces:\n",
    "    try:\n",
    "        liste_annonce_clean.append(i[0])\n",
    "    except:\n",
    "        pass\n",
    "    \n",
    "dict_annonces = {\"localisation\":[],\n",
    "                 \"prix\":[],\n",
    "                 \"pieces\":[],\n",
    "                  \"surface\":[],\n",
    "                  \"DPE\":[],\n",
    "                  \"DPE_ES\":[],\n",
    "                  \"depenses_energ\":[]}\n",
    "\n",
    "for page in liste_annonce_clean:\n",
    "    time.sleep(10)\n",
    "    print(page.location['x'])\n",
    "    scroll_shim(driver,page)\n",
    "    time.sleep(10)\n",
    "    page.click()\n",
    "    time.sleep(1)\n",
    "    new_page = Session(page).recuperation()\n",
    "    for i in dict_annonces.keys():\n",
    "        dict_annonces[i].append(new_page[i])\n",
    "    time.sleep(5)\n",
    "    driver.back()\n",
    "    time.sleep(10)\n",
    "    scroll_shim(driver,page)\n",
    "    time.sleep(5)\n",
    "    print(dict_annonces)\n",
    "\n",
    "\n",
    "    "
   ]
  },
  {
   "cell_type": "code",
   "execution_count": 18,
   "metadata": {},
   "outputs": [],
   "source": []
  },
  {
   "cell_type": "code",
   "execution_count": 21,
   "metadata": {},
   "outputs": [
    {
     "name": "stdout",
     "output_type": "stream",
     "text": [
      "[[<selenium.webdriver.remote.webelement.WebElement (session=\"b6147d0776c644afa9d93491179e4e1c\", element=\"9c4bba14-9f50-431e-87b9-f154e3cef618\")>], [<selenium.webdriver.remote.webelement.WebElement (session=\"b6147d0776c644afa9d93491179e4e1c\", element=\"234ab0ab-cf3b-4d06-8019-4504def36500\")>], [<selenium.webdriver.remote.webelement.WebElement (session=\"b6147d0776c644afa9d93491179e4e1c\", element=\"e16ad78e-fe80-41db-8c56-b0aef801ce79\")>], [<selenium.webdriver.remote.webelement.WebElement (session=\"b6147d0776c644afa9d93491179e4e1c\", element=\"da55c381-13de-4086-bdec-434d12f6178c\")>], [], [<selenium.webdriver.remote.webelement.WebElement (session=\"b6147d0776c644afa9d93491179e4e1c\", element=\"6f8d27b9-7cce-42b1-bdbd-3713457eefcc\")>], [<selenium.webdriver.remote.webelement.WebElement (session=\"b6147d0776c644afa9d93491179e4e1c\", element=\"61ad7c7e-668a-4f7e-b10f-4b7052d35901\")>], [<selenium.webdriver.remote.webelement.WebElement (session=\"b6147d0776c644afa9d93491179e4e1c\", element=\"09949438-1422-433a-8738-edbd820db517\")>], [], [<selenium.webdriver.remote.webelement.WebElement (session=\"b6147d0776c644afa9d93491179e4e1c\", element=\"ea6f1b67-80aa-4f0d-b37c-d27a37bb2fbe\")>], [<selenium.webdriver.remote.webelement.WebElement (session=\"b6147d0776c644afa9d93491179e4e1c\", element=\"15a0626a-2de0-401f-a72f-6fd75d7db257\")>], [<selenium.webdriver.remote.webelement.WebElement (session=\"b6147d0776c644afa9d93491179e4e1c\", element=\"f85868e6-faeb-454b-8aaa-6965a9b3cb09\")>], [<selenium.webdriver.remote.webelement.WebElement (session=\"b6147d0776c644afa9d93491179e4e1c\", element=\"b7bfe472-33e7-40bd-9ed3-694ea8148c5b\")>], [<selenium.webdriver.remote.webelement.WebElement (session=\"b6147d0776c644afa9d93491179e4e1c\", element=\"9903146c-fd48-46ca-8f63-44ca6d503bf2\")>], [<selenium.webdriver.remote.webelement.WebElement (session=\"b6147d0776c644afa9d93491179e4e1c\", element=\"3a19a064-14ad-487e-9db7-cf4b13e81c06\")>], [<selenium.webdriver.remote.webelement.WebElement (session=\"b6147d0776c644afa9d93491179e4e1c\", element=\"e44c85ea-33c1-4fe7-88a3-dbe24abf436c\")>], [<selenium.webdriver.remote.webelement.WebElement (session=\"b6147d0776c644afa9d93491179e4e1c\", element=\"2fa9b6fc-52c3-40b4-8ba3-c945bfab6641\")>], [<selenium.webdriver.remote.webelement.WebElement (session=\"b6147d0776c644afa9d93491179e4e1c\", element=\"e5c37bf2-a560-4229-8599-ef447bd34ec1\")>], [<selenium.webdriver.remote.webelement.WebElement (session=\"b6147d0776c644afa9d93491179e4e1c\", element=\"228c2f40-e3ba-4a20-b11e-52e9b4b78c35\")>], [<selenium.webdriver.remote.webelement.WebElement (session=\"b6147d0776c644afa9d93491179e4e1c\", element=\"c17cdf96-7dd1-4019-a21d-267842fa3fd6\")>], [<selenium.webdriver.remote.webelement.WebElement (session=\"b6147d0776c644afa9d93491179e4e1c\", element=\"f6d3816e-78c8-4903-9261-8d45f921ffdf\")>], [<selenium.webdriver.remote.webelement.WebElement (session=\"b6147d0776c644afa9d93491179e4e1c\", element=\"2b6e4436-5765-4e7e-a5f6-8e33b5f1d4a1\")>], [<selenium.webdriver.remote.webelement.WebElement (session=\"b6147d0776c644afa9d93491179e4e1c\", element=\"86547d19-d6e9-4511-b75e-cad26e32a49f\")>], [<selenium.webdriver.remote.webelement.WebElement (session=\"b6147d0776c644afa9d93491179e4e1c\", element=\"da7ac91c-5d14-47be-b6a3-5a41a222f394\")>], [<selenium.webdriver.remote.webelement.WebElement (session=\"b6147d0776c644afa9d93491179e4e1c\", element=\"b15c185f-a906-49b5-bc3d-0cc1692b1fbd\")>]]\n"
     ]
    },
    {
     "ename": "StaleElementReferenceException",
     "evalue": "Message: stale element reference: element is not attached to the page document\n  (Session info: chrome=107.0.5304.88)\nStacktrace:\nBacktrace:\n\tOrdinal0 [0x00E81ED3+2236115]\n\tOrdinal0 [0x00E192F1+1807089]\n\tOrdinal0 [0x00D266FD+812797]\n\tOrdinal0 [0x00D292B4+823988]\n\tOrdinal0 [0x00D29165+823653]\n\tOrdinal0 [0x00D29400+824320]\n\tOrdinal0 [0x00D52054+991316]\n\tOrdinal0 [0x00D71A8C+1120908]\n\tOrdinal0 [0x00D4BD84+966020]\n\tOrdinal0 [0x00D71CA4+1121444]\n\tOrdinal0 [0x00D859E2+1202658]\n\tOrdinal0 [0x00D718A6+1120422]\n\tOrdinal0 [0x00D4A73D+960317]\n\tOrdinal0 [0x00D4B71F+964383]\n\tGetHandleVerifier [0x0112E7E2+2743074]\n\tGetHandleVerifier [0x011208D4+2685972]\n\tGetHandleVerifier [0x00F12BAA+532202]\n\tGetHandleVerifier [0x00F11990+527568]\n\tOrdinal0 [0x00E2080C+1837068]\n\tOrdinal0 [0x00E24CD8+1854680]\n\tOrdinal0 [0x00E24DC5+1854917]\n\tOrdinal0 [0x00E2ED64+1895780]\n\tBaseThreadInitThunk [0x77C7FA29+25]\n\tRtlGetAppContainerNamedObjectPath [0x77E27BBE+286]\n\tRtlGetAppContainerNamedObjectPath [0x77E27B8E+238]\n",
     "output_type": "error",
     "traceback": [
      "\u001b[1;31m---------------------------------------------------------------------------\u001b[0m",
      "\u001b[1;31mStaleElementReferenceException\u001b[0m            Traceback (most recent call last)",
      "\u001b[1;32m~\\AppData\\Local\\Temp/ipykernel_14532/924323578.py\u001b[0m in \u001b[0;36m<module>\u001b[1;34m\u001b[0m\n\u001b[0;32m      1\u001b[0m \u001b[0mprint\u001b[0m\u001b[1;33m(\u001b[0m\u001b[0mliste_annonces\u001b[0m\u001b[1;33m)\u001b[0m\u001b[1;33m\u001b[0m\u001b[1;33m\u001b[0m\u001b[0m\n\u001b[1;32m----> 2\u001b[1;33m \u001b[0mliste_annonces\u001b[0m\u001b[1;33m[\u001b[0m\u001b[1;36m0\u001b[0m\u001b[1;33m]\u001b[0m\u001b[1;33m[\u001b[0m\u001b[1;36m0\u001b[0m\u001b[1;33m]\u001b[0m\u001b[1;33m.\u001b[0m\u001b[0mlocation\u001b[0m\u001b[1;33m[\u001b[0m\u001b[1;34m'x'\u001b[0m\u001b[1;33m]\u001b[0m\u001b[1;33m\u001b[0m\u001b[1;33m\u001b[0m\u001b[0m\n\u001b[0m\u001b[0;32m      3\u001b[0m \u001b[1;33m\u001b[0m\u001b[0m\n\u001b[0;32m      4\u001b[0m \u001b[1;33m\u001b[0m\u001b[0m\n",
      "\u001b[1;32mc:\\Users\\pierr\\AppData\\Local\\Programs\\Python\\Python310\\lib\\site-packages\\selenium\\webdriver\\remote\\webelement.py\u001b[0m in \u001b[0;36mlocation\u001b[1;34m(self)\u001b[0m\n\u001b[0;32m    284\u001b[0m     \u001b[1;32mdef\u001b[0m \u001b[0mlocation\u001b[0m\u001b[1;33m(\u001b[0m\u001b[0mself\u001b[0m\u001b[1;33m)\u001b[0m \u001b[1;33m->\u001b[0m \u001b[0mdict\u001b[0m\u001b[1;33m:\u001b[0m\u001b[1;33m\u001b[0m\u001b[1;33m\u001b[0m\u001b[0m\n\u001b[0;32m    285\u001b[0m         \u001b[1;34m\"\"\"The location of the element in the renderable canvas.\"\"\"\u001b[0m\u001b[1;33m\u001b[0m\u001b[1;33m\u001b[0m\u001b[0m\n\u001b[1;32m--> 286\u001b[1;33m         \u001b[0mold_loc\u001b[0m \u001b[1;33m=\u001b[0m \u001b[0mself\u001b[0m\u001b[1;33m.\u001b[0m\u001b[0m_execute\u001b[0m\u001b[1;33m(\u001b[0m\u001b[0mCommand\u001b[0m\u001b[1;33m.\u001b[0m\u001b[0mGET_ELEMENT_RECT\u001b[0m\u001b[1;33m)\u001b[0m\u001b[1;33m[\u001b[0m\u001b[1;34m'value'\u001b[0m\u001b[1;33m]\u001b[0m\u001b[1;33m\u001b[0m\u001b[1;33m\u001b[0m\u001b[0m\n\u001b[0m\u001b[0;32m    287\u001b[0m         new_loc = {\"x\": round(old_loc['x']),\n\u001b[0;32m    288\u001b[0m                    \"y\": round(old_loc['y'])}\n",
      "\u001b[1;32mc:\\Users\\pierr\\AppData\\Local\\Programs\\Python\\Python310\\lib\\site-packages\\selenium\\webdriver\\remote\\webelement.py\u001b[0m in \u001b[0;36m_execute\u001b[1;34m(self, command, params)\u001b[0m\n\u001b[0;32m    394\u001b[0m             \u001b[0mparams\u001b[0m \u001b[1;33m=\u001b[0m \u001b[1;33m{\u001b[0m\u001b[1;33m}\u001b[0m\u001b[1;33m\u001b[0m\u001b[1;33m\u001b[0m\u001b[0m\n\u001b[0;32m    395\u001b[0m         \u001b[0mparams\u001b[0m\u001b[1;33m[\u001b[0m\u001b[1;34m'id'\u001b[0m\u001b[1;33m]\u001b[0m \u001b[1;33m=\u001b[0m \u001b[0mself\u001b[0m\u001b[1;33m.\u001b[0m\u001b[0m_id\u001b[0m\u001b[1;33m\u001b[0m\u001b[1;33m\u001b[0m\u001b[0m\n\u001b[1;32m--> 396\u001b[1;33m         \u001b[1;32mreturn\u001b[0m \u001b[0mself\u001b[0m\u001b[1;33m.\u001b[0m\u001b[0m_parent\u001b[0m\u001b[1;33m.\u001b[0m\u001b[0mexecute\u001b[0m\u001b[1;33m(\u001b[0m\u001b[0mcommand\u001b[0m\u001b[1;33m,\u001b[0m \u001b[0mparams\u001b[0m\u001b[1;33m)\u001b[0m\u001b[1;33m\u001b[0m\u001b[1;33m\u001b[0m\u001b[0m\n\u001b[0m\u001b[0;32m    397\u001b[0m \u001b[1;33m\u001b[0m\u001b[0m\n\u001b[0;32m    398\u001b[0m     \u001b[1;32mdef\u001b[0m \u001b[0mfind_element\u001b[0m\u001b[1;33m(\u001b[0m\u001b[0mself\u001b[0m\u001b[1;33m,\u001b[0m \u001b[0mby\u001b[0m\u001b[1;33m=\u001b[0m\u001b[0mBy\u001b[0m\u001b[1;33m.\u001b[0m\u001b[0mID\u001b[0m\u001b[1;33m,\u001b[0m \u001b[0mvalue\u001b[0m\u001b[1;33m=\u001b[0m\u001b[1;32mNone\u001b[0m\u001b[1;33m)\u001b[0m \u001b[1;33m->\u001b[0m \u001b[0mWebElement\u001b[0m\u001b[1;33m:\u001b[0m\u001b[1;33m\u001b[0m\u001b[1;33m\u001b[0m\u001b[0m\n",
      "\u001b[1;32mc:\\Users\\pierr\\AppData\\Local\\Programs\\Python\\Python310\\lib\\site-packages\\selenium\\webdriver\\remote\\webdriver.py\u001b[0m in \u001b[0;36mexecute\u001b[1;34m(self, driver_command, params)\u001b[0m\n\u001b[0;32m    427\u001b[0m         \u001b[0mresponse\u001b[0m \u001b[1;33m=\u001b[0m \u001b[0mself\u001b[0m\u001b[1;33m.\u001b[0m\u001b[0mcommand_executor\u001b[0m\u001b[1;33m.\u001b[0m\u001b[0mexecute\u001b[0m\u001b[1;33m(\u001b[0m\u001b[0mdriver_command\u001b[0m\u001b[1;33m,\u001b[0m \u001b[0mparams\u001b[0m\u001b[1;33m)\u001b[0m\u001b[1;33m\u001b[0m\u001b[1;33m\u001b[0m\u001b[0m\n\u001b[0;32m    428\u001b[0m         \u001b[1;32mif\u001b[0m \u001b[0mresponse\u001b[0m\u001b[1;33m:\u001b[0m\u001b[1;33m\u001b[0m\u001b[1;33m\u001b[0m\u001b[0m\n\u001b[1;32m--> 429\u001b[1;33m             \u001b[0mself\u001b[0m\u001b[1;33m.\u001b[0m\u001b[0merror_handler\u001b[0m\u001b[1;33m.\u001b[0m\u001b[0mcheck_response\u001b[0m\u001b[1;33m(\u001b[0m\u001b[0mresponse\u001b[0m\u001b[1;33m)\u001b[0m\u001b[1;33m\u001b[0m\u001b[1;33m\u001b[0m\u001b[0m\n\u001b[0m\u001b[0;32m    430\u001b[0m             response['value'] = self._unwrap_value(\n\u001b[0;32m    431\u001b[0m                 response.get('value', None))\n",
      "\u001b[1;32mc:\\Users\\pierr\\AppData\\Local\\Programs\\Python\\Python310\\lib\\site-packages\\selenium\\webdriver\\remote\\errorhandler.py\u001b[0m in \u001b[0;36mcheck_response\u001b[1;34m(self, response)\u001b[0m\n\u001b[0;32m    241\u001b[0m                 \u001b[0malert_text\u001b[0m \u001b[1;33m=\u001b[0m \u001b[0mvalue\u001b[0m\u001b[1;33m[\u001b[0m\u001b[1;34m'alert'\u001b[0m\u001b[1;33m]\u001b[0m\u001b[1;33m.\u001b[0m\u001b[0mget\u001b[0m\u001b[1;33m(\u001b[0m\u001b[1;34m'text'\u001b[0m\u001b[1;33m)\u001b[0m\u001b[1;33m\u001b[0m\u001b[1;33m\u001b[0m\u001b[0m\n\u001b[0;32m    242\u001b[0m             \u001b[1;32mraise\u001b[0m \u001b[0mexception_class\u001b[0m\u001b[1;33m(\u001b[0m\u001b[0mmessage\u001b[0m\u001b[1;33m,\u001b[0m \u001b[0mscreen\u001b[0m\u001b[1;33m,\u001b[0m \u001b[0mstacktrace\u001b[0m\u001b[1;33m,\u001b[0m \u001b[0malert_text\u001b[0m\u001b[1;33m)\u001b[0m  \u001b[1;31m# type: ignore[call-arg]  # mypy is not smart enough here\u001b[0m\u001b[1;33m\u001b[0m\u001b[1;33m\u001b[0m\u001b[0m\n\u001b[1;32m--> 243\u001b[1;33m         \u001b[1;32mraise\u001b[0m \u001b[0mexception_class\u001b[0m\u001b[1;33m(\u001b[0m\u001b[0mmessage\u001b[0m\u001b[1;33m,\u001b[0m \u001b[0mscreen\u001b[0m\u001b[1;33m,\u001b[0m \u001b[0mstacktrace\u001b[0m\u001b[1;33m)\u001b[0m\u001b[1;33m\u001b[0m\u001b[1;33m\u001b[0m\u001b[0m\n\u001b[0m",
      "\u001b[1;31mStaleElementReferenceException\u001b[0m: Message: stale element reference: element is not attached to the page document\n  (Session info: chrome=107.0.5304.88)\nStacktrace:\nBacktrace:\n\tOrdinal0 [0x00E81ED3+2236115]\n\tOrdinal0 [0x00E192F1+1807089]\n\tOrdinal0 [0x00D266FD+812797]\n\tOrdinal0 [0x00D292B4+823988]\n\tOrdinal0 [0x00D29165+823653]\n\tOrdinal0 [0x00D29400+824320]\n\tOrdinal0 [0x00D52054+991316]\n\tOrdinal0 [0x00D71A8C+1120908]\n\tOrdinal0 [0x00D4BD84+966020]\n\tOrdinal0 [0x00D71CA4+1121444]\n\tOrdinal0 [0x00D859E2+1202658]\n\tOrdinal0 [0x00D718A6+1120422]\n\tOrdinal0 [0x00D4A73D+960317]\n\tOrdinal0 [0x00D4B71F+964383]\n\tGetHandleVerifier [0x0112E7E2+2743074]\n\tGetHandleVerifier [0x011208D4+2685972]\n\tGetHandleVerifier [0x00F12BAA+532202]\n\tGetHandleVerifier [0x00F11990+527568]\n\tOrdinal0 [0x00E2080C+1837068]\n\tOrdinal0 [0x00E24CD8+1854680]\n\tOrdinal0 [0x00E24DC5+1854917]\n\tOrdinal0 [0x00E2ED64+1895780]\n\tBaseThreadInitThunk [0x77C7FA29+25]\n\tRtlGetAppContainerNamedObjectPath [0x77E27BBE+286]\n\tRtlGetAppContainerNamedObjectPath [0x77E27B8E+238]\n"
     ]
    }
   ],
   "source": [
    "print(liste_annonces)\n",
    "liste_annonces[0][0].location['x']\n",
    "\n",
    "        "
   ]
  },
  {
   "cell_type": "code",
   "execution_count": 52,
   "metadata": {},
   "outputs": [
    {
     "name": "stdout",
     "output_type": "stream",
     "text": [
      "[<selenium.webdriver.remote.webelement.WebElement (session=\"fb6cee9ff3fd6be3bd455afa20424b4f\", element=\"ede264e1-e8df-4e5a-bc59-28235fb6d8ae\")>, <selenium.webdriver.remote.webelement.WebElement (session=\"fb6cee9ff3fd6be3bd455afa20424b4f\", element=\"32dce6d1-0fbd-45a2-b55d-9dd4c89d5168\")>, <selenium.webdriver.remote.webelement.WebElement (session=\"fb6cee9ff3fd6be3bd455afa20424b4f\", element=\"a09ce0c9-a1da-437f-ab36-5ea300d08238\")>, <selenium.webdriver.remote.webelement.WebElement (session=\"fb6cee9ff3fd6be3bd455afa20424b4f\", element=\"2b8f3e26-0699-488e-9fc9-b4ef2fe82766\")>, <selenium.webdriver.remote.webelement.WebElement (session=\"fb6cee9ff3fd6be3bd455afa20424b4f\", element=\"4f0b8030-8e31-4257-bbea-f0ae57166a6a\")>, <selenium.webdriver.remote.webelement.WebElement (session=\"fb6cee9ff3fd6be3bd455afa20424b4f\", element=\"49d2be71-2c52-4139-8cc2-b0bc0dd05162\")>, <selenium.webdriver.remote.webelement.WebElement (session=\"fb6cee9ff3fd6be3bd455afa20424b4f\", element=\"8f9e57e0-1b4e-4a88-ab24-2632b63cbcd6\")>, <selenium.webdriver.remote.webelement.WebElement (session=\"fb6cee9ff3fd6be3bd455afa20424b4f\", element=\"c88ada4e-02bd-4da8-9f73-6a67efa5af23\")>, <selenium.webdriver.remote.webelement.WebElement (session=\"fb6cee9ff3fd6be3bd455afa20424b4f\", element=\"380313a1-248a-4144-b05a-1713cce761ca\")>, <selenium.webdriver.remote.webelement.WebElement (session=\"fb6cee9ff3fd6be3bd455afa20424b4f\", element=\"c8e05a3b-ba1e-4ea5-9d67-6f54a67df48b\")>, <selenium.webdriver.remote.webelement.WebElement (session=\"fb6cee9ff3fd6be3bd455afa20424b4f\", element=\"c52e89e3-0ff8-4b28-922c-a1446c4ad712\")>, <selenium.webdriver.remote.webelement.WebElement (session=\"fb6cee9ff3fd6be3bd455afa20424b4f\", element=\"13fe83e0-4f75-43d4-8ff2-b942faf25a8d\")>, <selenium.webdriver.remote.webelement.WebElement (session=\"fb6cee9ff3fd6be3bd455afa20424b4f\", element=\"c458afda-05ff-4890-8b9d-dae1cb5f86c5\")>, <selenium.webdriver.remote.webelement.WebElement (session=\"fb6cee9ff3fd6be3bd455afa20424b4f\", element=\"1044913a-3d63-414c-bcb2-0835c2fe189c\")>, <selenium.webdriver.remote.webelement.WebElement (session=\"fb6cee9ff3fd6be3bd455afa20424b4f\", element=\"6239f961-ca97-4e7b-8606-045dbcba9a4c\")>, <selenium.webdriver.remote.webelement.WebElement (session=\"fb6cee9ff3fd6be3bd455afa20424b4f\", element=\"aaf776a1-5000-47bf-a1c4-01247563e0b7\")>, <selenium.webdriver.remote.webelement.WebElement (session=\"fb6cee9ff3fd6be3bd455afa20424b4f\", element=\"cda628ca-c181-4d1f-90bd-d9d4b05d35fb\")>, <selenium.webdriver.remote.webelement.WebElement (session=\"fb6cee9ff3fd6be3bd455afa20424b4f\", element=\"4a753dba-3827-4dbf-bdd6-dbb6c5a1c4fc\")>, <selenium.webdriver.remote.webelement.WebElement (session=\"fb6cee9ff3fd6be3bd455afa20424b4f\", element=\"3654212b-edc2-4c42-80c2-7347e5624254\")>, <selenium.webdriver.remote.webelement.WebElement (session=\"fb6cee9ff3fd6be3bd455afa20424b4f\", element=\"5c9b134f-7cee-4045-9e2d-56a47b245eac\")>, <selenium.webdriver.remote.webelement.WebElement (session=\"fb6cee9ff3fd6be3bd455afa20424b4f\", element=\"71ccbdb6-b3ba-4754-9efe-62e984ae34bf\")>, <selenium.webdriver.remote.webelement.WebElement (session=\"fb6cee9ff3fd6be3bd455afa20424b4f\", element=\"e6562c52-5570-478f-baf9-e49d390e7e09\")>, <selenium.webdriver.remote.webelement.WebElement (session=\"fb6cee9ff3fd6be3bd455afa20424b4f\", element=\"446bac4d-4453-4e2d-8ab6-c7b1980b0e28\")>]\n"
     ]
    }
   ],
   "source": [
    "liste_annonce_clean = []\n",
    "for i in liste_annonces:\n",
    "    try:\n",
    "        liste_annonce_clean.append(i[0])\n",
    "    except:\n",
    "        pass\n",
    "        \n",
    "\n",
    "print(liste_annonce_clean)"
   ]
  },
  {
   "cell_type": "code",
   "execution_count": 53,
   "metadata": {},
   "outputs": [],
   "source": [
    "liste_annonce_clean[0].click()"
   ]
  },
  {
   "cell_type": "code",
   "execution_count": 51,
   "metadata": {},
   "outputs": [
    {
     "ename": "IndexError",
     "evalue": "list index out of range",
     "output_type": "error",
     "traceback": [
      "\u001b[1;31m---------------------------------------------------------------------------\u001b[0m",
      "\u001b[1;31mIndexError\u001b[0m                                Traceback (most recent call last)",
      "\u001b[1;32m~\\AppData\\Local\\Temp/ipykernel_19256/3781977628.py\u001b[0m in \u001b[0;36m<module>\u001b[1;34m\u001b[0m\n\u001b[1;32m----> 1\u001b[1;33m \u001b[1;33m[\u001b[0m\u001b[1;33m]\u001b[0m\u001b[1;33m[\u001b[0m\u001b[1;36m0\u001b[0m\u001b[1;33m]\u001b[0m\u001b[1;33m\u001b[0m\u001b[1;33m\u001b[0m\u001b[0m\n\u001b[0m",
      "\u001b[1;31mIndexError\u001b[0m: list index out of range"
     ]
    }
   ],
   "source": []
  },
  {
   "cell_type": "code",
   "execution_count": null,
   "metadata": {},
   "outputs": [],
   "source": []
  },
  {
   "cell_type": "code",
   "execution_count": 41,
   "metadata": {},
   "outputs": [
    {
     "data": {
      "text/plain": [
       "[<selenium.webdriver.remote.webelement.WebElement (session=\"fb6cee9ff3fd6be3bd455afa20424b4f\", element=\"ede264e1-e8df-4e5a-bc59-28235fb6d8ae\")>]"
      ]
     },
     "execution_count": 41,
     "metadata": {},
     "output_type": "execute_result"
    }
   ],
   "source": [
    "liste_annonces[0]"
   ]
  }
 ],
 "metadata": {
  "kernelspec": {
   "display_name": "Python 3",
   "language": "python",
   "name": "python3"
  },
  "language_info": {
   "codemirror_mode": {
    "name": "ipython",
    "version": 3
   },
   "file_extension": ".py",
   "mimetype": "text/x-python",
   "name": "python",
   "nbconvert_exporter": "python",
   "pygments_lexer": "ipython3",
   "version": "3.8.8"
  },
  "vscode": {
   "interpreter": {
    "hash": "755bca588c5ad61560da42c0cec298747f8b74f9b58b010e18f102b95c79ceda"
   }
  }
 },
 "nbformat": 4,
 "nbformat_minor": 4
}
